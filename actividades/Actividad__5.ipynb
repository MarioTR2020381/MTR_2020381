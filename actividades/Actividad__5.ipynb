{
  "nbformat": 4,
  "nbformat_minor": 0,
  "metadata": {
    "colab": {
      "provenance": []
    },
    "kernelspec": {
      "name": "python3",
      "display_name": "Python 3"
    },
    "language_info": {
      "name": "python"
    }
  },
  "cells": [
    {
      "cell_type": "markdown",
      "source": [],
      "metadata": {
        "id": "ysgsewq8-rsY"
      }
    },
    {
      "cell_type": "code",
      "source": [
        "# ACTIVIDAD 5: DISEÑO DE ALGORITMOS EN PYTHON\n",
        "# Mario Treviño Rocha\n",
        "# 2020381   N4\n",
        "\n",
        "\n",
        "# Algoritmo que le pide al usuario por su nombre y que lo salude con su nombre\n",
        "# excepto si se llama “Ana”, “Juan”, y “Pedro”\n",
        "\n",
        "nombre=input(\"¿Cuál es tu nombre? \")\n",
        "excepciones = [\"Ana\", \"Juan\", \"Pedro\"]\n",
        "if nombre in excepciones:\n",
        "    print(\"No puedo saludarte, lo siento\")\n",
        "else:\n",
        "    print(f\"Hola, {nombre}!\")\n"
      ],
      "metadata": {
        "colab": {
          "base_uri": "https://localhost:8080/"
        },
        "id": "NnE_7vH6Avg7",
        "outputId": "f4318ea0-25bb-400d-ca3e-631b7c401dac"
      },
      "execution_count": null,
      "outputs": [
        {
          "output_type": "stream",
          "name": "stdout",
          "text": [
            "¿Cuál es tu nombre? Mario\n",
            "Hola, Mario!\n"
          ]
        }
      ]
    },
    {
      "cell_type": "code",
      "source": [
        "# Algoritmo que por medio de una función, le pida al usuario una lista\n",
        "# de N elementos y como resultado invierta el sentido de la lista.\n",
        "\n",
        "n = int(input(\"¿Cuantos elementos tendrá la lista? \"))\n",
        "def invertir(lista):\n",
        "  return lista[::-1]\n",
        "lista=[]\n",
        "for x in range(n):\n",
        "  elemento= input (\"Qué elemento deseas agregar? \")\n",
        "  lista.append(elemento)\n",
        "\n",
        "invertida= invertir(lista)\n",
        "print(invertida)"
      ],
      "metadata": {
        "colab": {
          "base_uri": "https://localhost:8080/"
        },
        "id": "1HOl7EtQA429",
        "outputId": "6e1c0fa0-36c1-42e6-adb6-d5b4b2683339"
      },
      "execution_count": null,
      "outputs": [
        {
          "output_type": "stream",
          "name": "stdout",
          "text": [
            "¿Cuantos elementos tendrá la lista? 5\n",
            "Qué elemento deseas agregar? Azul\n",
            "Qué elemento deseas agregar? Amarillo\n",
            "Qué elemento deseas agregar? Rojo\n",
            "Qué elemento deseas agregar? Verde\n",
            "Qué elemento deseas agregar? Naranja\n",
            "['Naranja', 'Verde', 'Rojo', 'Amarillo', 'Azul']\n"
          ]
        }
      ]
    },
    {
      "cell_type": "code",
      "source": [
        "# Algoritmo que le pregunte al usuario cuántos números de la serie\n",
        "# de Fibonacci quiere generar y que al final los imprima.\n",
        "\n",
        "n = int(input(\"¿Cuántos números de la serie de Fibonacci deseas generar? \"))\n",
        "def generar(n):\n",
        "    serie = []\n",
        "    a, b = 0, 1\n",
        "    for _ in range(n):\n",
        "        serie.append(a)\n",
        "        a, b = b, a + b\n",
        "    return serie\n",
        "\n",
        "fib_serie = generar(n)\n",
        "print(\"Serie de Fibonacci: \", fib_serie)"
      ],
      "metadata": {
        "colab": {
          "base_uri": "https://localhost:8080/"
        },
        "id": "g-aNaYQ_BV-X",
        "outputId": "197a1171-347b-4a70-bdcf-4c5494211e3e"
      },
      "execution_count": null,
      "outputs": [
        {
          "output_type": "stream",
          "name": "stdout",
          "text": [
            "¿Cuántos números de la serie de Fibonacci deseas generar? 9\n",
            "Serie de Fibonacci:  [0, 1, 1, 2, 3, 5, 8, 13, 21]\n"
          ]
        }
      ]
    },
    {
      "cell_type": "code",
      "source": [
        "#Juego de adivinar el número\n",
        "\n",
        "import random\n",
        "objetivo = random.randint(1, 100)\n",
        "memoria = None\n",
        "\n",
        "while memoria!=objetivo:\n",
        "    memoria= int(input(\"Adivina el número entre 1 y 100: \"))\n",
        "    if memoria<objetivo:\n",
        "        print(\"El número es mayor\")\n",
        "    elif memoria>objetivo:\n",
        "        print(\"El número es menor\")\n",
        "    else:\n",
        "        print(\"Adivinaste el número \\(._.)/\")\n"
      ],
      "metadata": {
        "colab": {
          "base_uri": "https://localhost:8080/"
        },
        "id": "I1H8gTQcCDGz",
        "outputId": "71dabf9d-bd8b-4a40-d5a3-64f42f853523"
      },
      "execution_count": null,
      "outputs": [
        {
          "output_type": "stream",
          "name": "stdout",
          "text": [
            "Adivina el número entre 1 y 100: 50\n",
            "El número es menor\n",
            "Adivina el número entre 1 y 100: 25\n",
            "El número es menor\n",
            "Adivina el número entre 1 y 100: 13\n",
            "El número es mayor\n",
            "Adivina el número entre 1 y 100: 19\n",
            "El número es mayor\n",
            "Adivina el número entre 1 y 100: 23\n",
            "El número es menor\n",
            "Adivina el número entre 1 y 100: 21\n",
            "Adivinaste el número \\(._.)/\n"
          ]
        }
      ]
    },
    {
      "cell_type": "code",
      "source": [
        "#Ejercicio de cálculo de números primos en un rango dado:\n",
        "def is_prime(number):\n",
        "  if number <= 1:\n",
        "    return False\n",
        "  for i in range(2, int(number**0.5) + 1):\n",
        "    if number % i == 0:\n",
        "      return False\n",
        "    return True\n",
        "def main():\n",
        "  try:\n",
        "      start = int(input(\"Enter the start of the range: \"))\n",
        "      end = int(input(\"Enter the end of the range: \"))\n",
        "\n",
        "      if start > end:\n",
        "        print(\"The start of the range must be less than or equal to the end of the range.\")\n",
        "      elif start < 1:\n",
        "        print(\"The range must start from 1 or a positive number.\")\n",
        "      else:\n",
        "        primes = [num for num in range(start, end + 1) if is_prime(num)]\n",
        "        print(f\"Prime numbers in the range from fstart) to fend?:\")\n",
        "        print(primes)\n",
        "  except ValueError:\n",
        "    print(\"Please enter valid integers.\")\n",
        "\n",
        "if __name__==\"__main__\":\n",
        "  main()"
      ],
      "metadata": {
        "colab": {
          "base_uri": "https://localhost:8080/"
        },
        "id": "x5pRyqKnCXnC",
        "outputId": "2b7cb78e-a2a8-4866-a162-2eb2fdfc4c5e"
      },
      "execution_count": null,
      "outputs": [
        {
          "output_type": "stream",
          "name": "stdout",
          "text": [
            "Enter the start of the range: 1\n",
            "Enter the end of the range: 70\n",
            "Prime numbers in the range from fstart) to fend?:\n",
            "[5, 7, 9, 11, 13, 15, 17, 19, 21, 23, 25, 27, 29, 31, 33, 35, 37, 39, 41, 43, 45, 47, 49, 51, 53, 55, 57, 59, 61, 63, 65, 67, 69]\n"
          ]
        }
      ]
    },
    {
      "cell_type": "code",
      "source": [
        "#Calculadora\n",
        "\n",
        "X = float(input(\"Inserte primer número \"))\n",
        "Y = float(input(\"Inserte segundo número \"))\n",
        "\n",
        "\n",
        "Operacion = input(\"¿Qué operación quiere realizar? \")\n",
        "Adición = [\"SUMA\",\"Suma\",\"suma\",\"+\"]\n",
        "Sustracción = [\"RESTA\",\"Resta\",\"resta\",\"-\"]\n",
        "Producto = [\"MULTIPLIACIÓN\",\"MULTIPLIACION\",\"Multiplicación\",\n",
        "            \"Multipliacion\",\"multiplicación\",\"multiplicacion\",\"*\"]\n",
        "Cociente =[\"DIVISIÓN\",\"DIVISION\",\"División\",\"Division\",\n",
        "           \"división\",\"division\",\"/\"]\n",
        "\n",
        "def Suma():\n",
        "  print(\"El resultado de su suma es \")\n",
        "  print(X+Y)\n",
        "def Resta():\n",
        "  print(\"El resultado de su resta es \")\n",
        "  print(X-Y)\n",
        "def Multiplicacion():\n",
        "  print(\"El resultado de su multipicación es \")\n",
        "  print(X*Y)\n",
        "def Division():\n",
        "  print(\"El resultado de su división es \")\n",
        "  print(X/Y)\n",
        "\n",
        "\n",
        "if Operacion in Adición:\n",
        " Suma()\n",
        "elif Operacion in Sustracción:\n",
        " Resta()\n",
        "elif Operacion in Producto:\n",
        " Multiplicacion()\n",
        "elif Operacion in Cociente:\n",
        " Division()\n",
        "else:\n",
        " print(\"Por favor elija una operación aritmética\")"
      ],
      "metadata": {
        "colab": {
          "base_uri": "https://localhost:8080/"
        },
        "id": "ayqiP23VCs7Q",
        "outputId": "6a58545b-3c6e-4367-c12c-8c2db2eb0707"
      },
      "execution_count": null,
      "outputs": [
        {
          "output_type": "stream",
          "name": "stdout",
          "text": [
            "Inserte primer número 15\n",
            "Inserte segundo número 13\n",
            "¿Qué operación quiere realizar? multiplicacion\n",
            "El resultado de su multipicación es \n",
            "195.0\n"
          ]
        }
      ]
    },
    {
      "cell_type": "code",
      "source": [],
      "metadata": {
        "id": "K-dLiU2rCtCQ"
      },
      "execution_count": null,
      "outputs": []
    }
  ]
}